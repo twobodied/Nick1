{
 "cells": [
  {
   "cell_type": "code",
   "execution_count": 1,
   "metadata": {},
   "outputs": [],
   "source": [
    "cash_tips = [20, 10, 40, 44, 20, 50]"
   ]
  },
  {
   "cell_type": "code",
   "execution_count": 3,
   "metadata": {},
   "outputs": [
    {
     "name": "stdout",
     "output_type": "stream",
     "text": [
      "20\n",
      "10\n",
      "40\n",
      "44\n",
      "20\n",
      "50\n"
     ]
    }
   ],
   "source": [
    "for tip in cash_tips:\n",
    "    print(tip)"
   ]
  },
  {
   "cell_type": "code",
   "execution_count": 6,
   "metadata": {},
   "outputs": [
    {
     "name": "stdout",
     "output_type": "stream",
     "text": [
      "10\n",
      "50\n"
     ]
    }
   ],
   "source": [
    "total = 0\n",
    "count = 0\n",
    "min = 0\n",
    "max = 0\n",
    "\n",
    "for tip in cash_tips:\n",
    "\n",
    "    total =+ tip\n",
    "    count =+1\n",
    "    \n",
    "    if min ==0:\n",
    "        min = tip\n",
    "    elif tip < min:\n",
    "        min = tip\n",
    "    \n",
    "    if tip > max:\n",
    "        max = tip\n",
    "    \n",
    "print(min)\n",
    "print(max)"
   ]
  },
  {
   "cell_type": "code",
   "execution_count": 1,
   "metadata": {},
   "outputs": [
    {
     "name": "stdout",
     "output_type": "stream",
     "text": [
      "Hi Tom Bell! Thank you for your business of $0! You are a bronze member.\n",
      "Hi Maggie Johnson! Thank you for your business of $1032! You are a silver member.\n",
      "Hi John Spectre! Thank you for your business of $2543! You are a gold member.\n",
      "Hi Susy Simmons! Thank you for your business of $5322! You are a platinum member.\n"
     ]
    }
   ],
   "source": [
    "customers = [\n",
    "    { \"first_name\": \"Tom\", \"last_name\": \"Bell\", \"revenue\": 0 },\n",
    "    { \"first_name\": \"Maggie\", \"last_name\": \"Johnson\", \"revenue\": 1032 },\n",
    "    { \"first_name\": \"John\", \"last_name\": \"Spectre\", \"revenue\": 2543 },\n",
    "    { \"first_name\": \"Susy\", \"last_name\": \"Simmons\", \"revenue\": 5322 }\n",
    "]\n",
    "\n",
    "# Define a function that accepts a customer first_name, last_name,\n",
    "# and revenue and returns a custom greeting using the full name.\n",
    "# Use these ranges to determine the business tier (and corresponding message)\n",
    "# for each customer.\n",
    "#   Platinum = 3001+\n",
    "#   Gold = 2001-3000\n",
    "#   Silver = 1001-2000\n",
    "#   Bronze = 0-1000\n",
    "def create_greeting(first_name, last_name, revenue):\n",
    "    \"\"\"Creates a customer greeting based on revenue status.\n",
    "\n",
    "    Args:\n",
    "        first_name (str): The first name of the customer.\n",
    "        last_name (str): The last name of the customer.\n",
    "        revenue (int): The revenue of the customer.\n",
    "\n",
    "    Returns:\n",
    "        A customized greeting string.\n",
    "    \"\"\"\n",
    "\n",
    "    if revenue > 3000:\n",
    "        greeting = f\"Hi {first_name} {last_name}! Thank you for your business of ${revenue}! You are a platinum member.\"\n",
    "    elif (revenue > 2000 and revenue <= 3000):\n",
    "        greeting = f\"Hi {first_name} {last_name}! Thank you for your business of ${revenue}! You are a gold member.\"\n",
    "    elif (revenue > 1000 and revenue <= 2000):\n",
    "        greeting = f\"Hi {first_name} {last_name}! Thank you for your business of ${revenue}! You are a silver member.\"\n",
    "    elif (revenue >= 0  and revenue <= 1000):\n",
    "        greeting = f\"Hi {first_name} {last_name}! Thank you for your business of ${revenue}! You are a bronze member.\"\n",
    "\n",
    "    return greeting\n",
    "\n",
    "# Loop through the list of customers and use your function to print custom greetings for each customer.\n",
    "for customer in customers:\n",
    "    greeting = create_greeting(customer['first_name'], customer['last_name'], customer['revenue'])\n",
    "    print(greeting)\n",
    "    \n",
    "#if final print is unindented, or the for loop is taken away, why does it only print Susy's customer greeting? \n",
    "#answer: the formula has to be called - if it is not called in the for loop, it is being called in the first if statement within the formula"
   ]
  },
  {
   "cell_type": "code",
   "execution_count": 10,
   "metadata": {},
   "outputs": [
    {
     "name": "stdout",
     "output_type": "stream",
     "text": [
      "The bond is selling at a price of $700 and is valued at $620.9213230591549.\n",
      "A premium of 79.08 exists, therefore you do not want to buy the bond.\n"
     ]
    }
   ],
   "source": [
    "\"\"\"\n",
    "Zero-Coupon Bond Valuation.\n",
    "This script will calculate the present value of zero-coupon bonds, compare the present value to the price of the bond, and determine the corresponding action (buy, not buy, neutral).\n",
    "\"\"\"\n",
    "# @TODO: Create a function to calculate present value\n",
    "\n",
    "def calculate_present_value(future_value, discount_rate, compounding_periods, years):\n",
    "    present_value = future_value / ((1 + (discount_rate/compounding_periods)) ** (compounding_periods * years))\n",
    "    return present_value\n",
    "\n",
    "\n",
    "# Intialize the zero-coupon bond parameters, assume compounding period is equal to 1\n",
    "price = 700\n",
    "future_value = 1000\n",
    "discount_rate = .1\n",
    "compounding_periods = 1\n",
    "years = 5\n",
    "\n",
    "# @TODO: Call the calculate_present_value() function and assign to a variable\n",
    "\n",
    "bond_value = calculate_present_value(future_value, discount_rate, compounding_periods, years)\n",
    "\n",
    "# @TODO: Determine if the bond is worth it\n",
    "\n",
    "if bond_value > price:\n",
    "    discount = round(bond_value - price, 2)\n",
    "    print(f\"The bond is selling at a price of ${price} and is valued at ${bond_value}.\")\n",
    "    print(f\"A discount of {discount} exists, therefore you want to buy the bond.\")\n",
    "elif bond_value < price:\n",
    "    premium = round(price - bond_value, 2)\n",
    "    print(f\"The bond is selling at a price of ${price} and is valued at ${bond_value}.\")\n",
    "    print(f\"A premium of {premium} exists, therefore you do not want to buy the bond.\")\n",
    "else:\n",
    "    print(f\"The bond is selling at a price of ${price} and is valued at ${bond_value}.\")\n",
    "    print(f\"The bond is selling at its present value, you are neutral.\")\n"
   ]
  },
  {
   "cell_type": "code",
   "execution_count": null,
   "metadata": {},
   "outputs": [],
   "source": []
  }
 ],
 "metadata": {
  "kernelspec": {
   "display_name": "Python 3",
   "language": "python",
   "name": "python3"
  },
  "language_info": {
   "codemirror_mode": {
    "name": "ipython",
    "version": 3
   },
   "file_extension": ".py",
   "mimetype": "text/x-python",
   "name": "python",
   "nbconvert_exporter": "python",
   "pygments_lexer": "ipython3",
   "version": "3.8.3"
  }
 },
 "nbformat": 4,
 "nbformat_minor": 4
}
