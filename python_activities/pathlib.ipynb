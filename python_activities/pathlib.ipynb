{
 "cells": [
  {
   "cell_type": "code",
   "execution_count": 6,
   "metadata": {},
   "outputs": [
    {
     "name": "stdout",
     "output_type": "stream",
     "text": [
      "Current Working Directory: /Users/dsyim/FinTech/Nick1/python activities\n",
      "List of Best Actors:\n",
      "Nicolas Cage\n",
      "Betty White\n",
      "Gary Busey\n"
     ]
    }
   ],
   "source": [
    "\"\"\"Instructor Demo: File IO.\n",
    "This script will use the Pathlib library to set the file path\n",
    "and Python's built-in open() function to read in a text file. Then\n",
    "write the contents to an output file.\n",
    "\"\"\"\n",
    "\n",
    "# Import from the pathlib library, the main class Path\n",
    "from pathlib import Path\n",
    "\n",
    "# Check the current directory where the Python program is executing from\n",
    "print(f\"Current Working Directory: {Path.cwd()}\")\n",
    "\n",
    "# Set the path normally (Windows)\n",
    "\n",
    "# Set string raw literal due to backslashes acting as escape characters for\n",
    "\n",
    "# the Windows file = r'input.txt'\n",
    "\n",
    "# Set the path normally (Unix)\n",
    "\n",
    "#file = 'input.txt'\n",
    "\n",
    "# Set the input file path irregardless of OS\n",
    "filepath = Path(\"/Users/dsyim/FinTech/Nick1/python activities/input.txt\")\n",
    "\n",
    "# Open the file in \"read\" mode ('r') and store the\n",
    "\n",
    "# contents in the variable \"text\"\n",
    "with open(filepath, 'r') as file:\n",
    "    # Store all of the text from the file inside a variable called \"text\"\n",
    "    # and print the contexts of the text file\n",
    "    text = file.read()\n",
    "    print(text)\n",
    "\n",
    "    # Parse and print the file line by line. The print statement adds an\n",
    "    # extra line break to each line in the output.\n",
    "    line_num = 1\n",
    "    for line in file:\n",
    "        print(f\"line {line_num}: {line}\")\n",
    "        line_num += 1\n",
    "        \n",
    "# Set the output file path\n",
    "output_path = Path(\"output.txt\")\n",
    "\n",
    "# Open the output_path as a file object in \"write\" mode ('w')\n",
    "\n",
    "# Write a header line and write the contents of 'text' to the file\n",
    "with open(output_path, 'w') as file:\n",
    "    file.write(\"This is an output file.\\n\")\n",
    "    file.write(text)\n"
   ]
  },
  {
   "cell_type": "code",
   "execution_count": null,
   "metadata": {},
   "outputs": [],
   "source": [
    "/Users/dsyim/FinTech/Nick1/python activities"
   ]
  }
 ],
 "metadata": {
  "kernelspec": {
   "display_name": "Python 3",
   "language": "python",
   "name": "python3"
  },
  "language_info": {
   "name": ""
  }
 },
 "nbformat": 4,
 "nbformat_minor": 4
}
