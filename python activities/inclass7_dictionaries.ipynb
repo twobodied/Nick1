{
 "cells": [
  {
   "cell_type": "code",
   "execution_count": 1,
   "metadata": {},
   "outputs": [],
   "source": [
    "cash_tips = [20, 10, 40, 44, 20, 50]"
   ]
  },
  {
   "cell_type": "code",
   "execution_count": 3,
   "metadata": {},
   "outputs": [
    {
     "name": "stdout",
     "output_type": "stream",
     "text": [
      "20\n",
      "10\n",
      "40\n",
      "44\n",
      "20\n",
      "50\n"
     ]
    }
   ],
   "source": [
    "for tip in cash_tips:\n",
    "    print(tip)"
   ]
  },
  {
   "cell_type": "code",
   "execution_count": 6,
   "metadata": {},
   "outputs": [
    {
     "name": "stdout",
     "output_type": "stream",
     "text": [
      "10\n",
      "50\n"
     ]
    }
   ],
   "source": [
    "total = 0\n",
    "count = 0\n",
    "min = 0\n",
    "max = 0\n",
    "\n",
    "for tip in cash_tips:\n",
    "\n",
    "    total =+ tip\n",
    "    count =+1\n",
    "    \n",
    "    if min ==0:\n",
    "        min = tip\n",
    "    elif tip < min:\n",
    "        min = tip\n",
    "    \n",
    "    if tip > max:\n",
    "        max = tip\n",
    "    \n",
    "print(min)\n",
    "print(max)"
   ]
  },
  {
   "cell_type": "code",
   "execution_count": null,
   "metadata": {},
   "outputs": [],
   "source": []
  }
 ],
 "metadata": {
  "kernelspec": {
   "display_name": "Python 3",
   "language": "python",
   "name": "python3"
  },
  "language_info": {
   "name": ""
  }
 },
 "nbformat": 4,
 "nbformat_minor": 4
}
