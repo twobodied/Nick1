{
 "cells": [
  {
   "cell_type": "code",
   "execution_count": 6,
   "metadata": {},
   "outputs": [
    {
     "name": "stdout",
     "output_type": "stream",
     "text": [
      "Market Capitalization: 94588216000.0\n"
     ]
    }
   ],
   "source": [
    "def calculate_market_cap(market_price, number_of_shares):\n",
    "    cap = market_price*number_of_shares\n",
    "    return cap\n",
    "\n",
    "market_price = 76.06\n",
    "number_of_shares = 1243600000\n",
    "\n",
    "market_cap = calculate_market_cap(market_price, number_of_shares)\n",
    "print(f\"Market Capitalization: {market_cap}\")"
   ]
  },
  {
   "cell_type": "code",
   "execution_count": 3,
   "metadata": {},
   "outputs": [],
   "source": [
    "def main():\n",
    "    print(\"Greeting!\")\n"
   ]
  },
  {
   "cell_type": "code",
   "execution_count": 4,
   "metadata": {},
   "outputs": [
    {
     "name": "stdout",
     "output_type": "stream",
     "text": [
      "Greeting!\n"
     ]
    }
   ],
   "source": [
    "main()"
   ]
  },
  {
   "cell_type": "code",
   "execution_count": 7,
   "metadata": {},
   "outputs": [],
   "source": [
    "import math"
   ]
  },
  {
   "cell_type": "code",
   "execution_count": 8,
   "metadata": {},
   "outputs": [],
   "source": [
    "def calc():\n",
    "    print(math.pi)"
   ]
  },
  {
   "cell_type": "code",
   "execution_count": 9,
   "metadata": {},
   "outputs": [
    {
     "name": "stdout",
     "output_type": "stream",
     "text": [
      "3.141592653589793\n"
     ]
    }
   ],
   "source": [
    "calc()"
   ]
  },
  {
   "cell_type": "code",
   "execution_count": 31,
   "metadata": {},
   "outputs": [
    {
     "name": "stdout",
     "output_type": "stream",
     "text": [
      "Year one growth was: 0.5517241379310345\n"
     ]
    }
   ],
   "source": [
    "def calculate_compound_growth_rate(beginning_balance, ending_balance, years):\n",
    "    growth_rate = ((ending_balance/beginning_balance)**(1/years)) - 1\n",
    "    return growth_rate\n",
    "\n",
    "beginning_balance = 29000.00\n",
    "ending_balance = 45000.00\n",
    "years = 1.0\n",
    "\n",
    "year_one_growth = calculate_compound_growth_rate(beginning_balance, ending_balance, years)\n",
    "print(f\"Year one growth was: {year_one_growth}\")"
   ]
  },
  {
   "cell_type": "code",
   "execution_count": 13,
   "metadata": {},
   "outputs": [
    {
     "name": "stdout",
     "output_type": "stream",
     "text": [
      "Year two growth was: 0.04444444444444451\n"
     ]
    }
   ],
   "source": [
    "beginning_balance = 45000.00\n",
    "ending_balance = 47000.00\n",
    "\n",
    "year_two_growth = calculate_compound_growth_rate(beginning_balance, ending_balance, years)\n",
    "print(f\"Year two growth was: {year_two_growth}\")"
   ]
  },
  {
   "cell_type": "code",
   "execution_count": 23,
   "metadata": {},
   "outputs": [
    {
     "name": "stdout",
     "output_type": "stream",
     "text": [
      "Year three growth was: 0.04106382978723411\n"
     ]
    }
   ],
   "source": [
    "beginning_balance = 47000.00\n",
    "ending_balance = 48930.00\n",
    "\n",
    "year_three_growth = calculate_compound_growth_rate(beginning_balance, ending_balance, years)\n",
    "print(f\"Year three growth was: {year_three_growth}\")"
   ]
  },
  {
   "cell_type": "code",
   "execution_count": 28,
   "metadata": {},
   "outputs": [
    {
     "name": "stdout",
     "output_type": "stream",
     "text": [
      "Year one growth was 0.55%\n",
      "Year two growth was 0.04%\n",
      "Year three growth was 0.04%\n"
     ]
    }
   ],
   "source": [
    "print(f\"Year one growth was {year_one_growth:.2f}%\")\n",
    "print(f\"Year two growth was {year_two_growth:.2f}%\")\n",
    "print(f\"Year three growth was {year_three_growth:.2f}%\")"
   ]
  },
  {
   "cell_type": "code",
   "execution_count": 30,
   "metadata": {},
   "outputs": [],
   "source": [
    "customers = [\n",
    "    { \"first_name\": \"Tom\", \"last_name\": \"Bell\", \"revenue\": 0 },\n",
    "    { \"first_name\": \"Maggie\", \"last_name\": \"Johnson\", \"revenue\": 1032 },\n",
    "    { \"first_name\": \"John\", \"last_name\": \"Spectre\", \"revenue\": 2543 },\n",
    "    { \"first_name\": \"Susy\", \"last_name\": \"Simmons\", \"revenue\": 5322 }\n",
    "]\n",
    "\n",
    "def create_greeting(first_name, last_name, revenue):"
   ]
  },
  {
   "cell_type": "code",
   "execution_count": null,
   "metadata": {},
   "outputs": [],
   "source": []
  }
 ],
 "metadata": {
  "kernelspec": {
   "display_name": "Python 3",
   "language": "python",
   "name": "python3"
  },
  "language_info": {
   "codemirror_mode": {
    "name": "ipython",
    "version": 3
   },
   "file_extension": ".py",
   "mimetype": "text/x-python",
   "name": "python",
   "nbconvert_exporter": "python",
   "pygments_lexer": "ipython3",
   "version": "3.8.3"
  }
 },
 "nbformat": 4,
 "nbformat_minor": 4
}
