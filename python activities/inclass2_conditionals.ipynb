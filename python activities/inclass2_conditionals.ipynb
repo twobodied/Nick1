{
 "cells": [
  {
   "cell_type": "code",
   "execution_count": 1,
   "metadata": {},
   "outputs": [],
   "source": [
    "driverless_car = False"
   ]
  },
  {
   "cell_type": "code",
   "execution_count": 4,
   "metadata": {},
   "outputs": [
    {
     "name": "stdout",
     "output_type": "stream",
     "text": [
      "Please proceed\n"
     ]
    }
   ],
   "source": [
    "if driverless_car == True:\n",
    "    print(\"Do Not Hit\")\n",
    "else:\n",
    "    print(\"Please proceed\")"
   ]
  },
  {
   "cell_type": "code",
   "execution_count": 5,
   "metadata": {},
   "outputs": [
    {
     "name": "stdout",
     "output_type": "stream",
     "text": [
      "Insurance premium will increase. True or False?\n",
      "Prediction: False\n"
     ]
    }
   ],
   "source": [
    "accident = True\n",
    "at_fault = False\n",
    "accident_forgiveness = True\n",
    "elite_status = True\n",
    "\n",
    "increase_insurance_premium = True\n",
    "\n",
    "print(\"Insurance premium will increase. True or False?\")\n",
    "\n",
    "if accident:\n",
    "    if at_fault and accident_forgiveness:\n",
    "        increase_insurance_premium = False\n",
    "    elif at_fault and not accident_forgiveness and not elite_status:\n",
    "        increase_insurance_premium = True\n",
    "    else:\n",
    "        increase_insurance_premium = False\n",
    "elif not accident and elite_status:\n",
    "    increase_insurance_premium = False\n",
    "else:\n",
    "    increae_insurance_premium = True\n",
    "\n",
    "print(f\"Prediction: {increase_insurance_premium}\")"
   ]
  },
  {
   "cell_type": "code",
   "execution_count": null,
   "metadata": {},
   "outputs": [],
   "source": []
  },
  {
   "cell_type": "code",
   "execution_count": null,
   "metadata": {},
   "outputs": [],
   "source": []
  }
 ],
 "metadata": {
  "kernelspec": {
   "display_name": "Python 3",
   "language": "python",
   "name": "python3"
  },
  "language_info": {
   "codemirror_mode": {
    "name": "ipython",
    "version": 3
   },
   "file_extension": ".py",
   "mimetype": "text/x-python",
   "name": "python",
   "nbconvert_exporter": "python",
   "pygments_lexer": "ipython3",
   "version": "3.8.3"
  }
 },
 "nbformat": 4,
 "nbformat_minor": 4
}
