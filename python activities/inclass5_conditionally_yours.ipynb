{
 "cells": [
  {
   "cell_type": "code",
   "execution_count": 3,
   "metadata": {},
   "outputs": [
    {
     "ename": "SyntaxError",
     "evalue": "EOF while scanning triple-quoted string literal (<ipython-input-3-928f24d0fa12>, line 10)",
     "output_type": "error",
     "traceback": [
      "\u001b[0;36m  File \u001b[0;32m\"<ipython-input-3-928f24d0fa12>\"\u001b[0;36m, line \u001b[0;32m10\u001b[0m\n\u001b[0;31m    6. Print\u001b[0m\n\u001b[0m             \n^\u001b[0m\n\u001b[0;31mSyntaxError\u001b[0m\u001b[0;31m:\u001b[0m EOF while scanning triple-quoted string literal\n"
     ]
    }
   ],
   "source": [
    "\"\"\"\n",
    "Conditionally Yours\n",
    "\n",
    "Pseudocode:\n",
    "1. Initialize relevant variables\n",
    "2. Compute increase and percent increase\n",
    "3. If percent increase is equal to or greater than threshold to sell, then set recommendation to \"sell\"\n",
    "4. If percent increase is less than or equal to threshold to buy, then set recommendation to \"buy\"\n",
    "5. If percent increase is less than threhold to sell and greater than threshold to buy, then set recommendation to \"hold\"\n",
    "6. Print \"Recommendation: \"+recommendation\")\n",
    "\"\"\""
   ]
  },
  {
   "cell_type": "code",
   "execution_count": 9,
   "metadata": {},
   "outputs": [
    {
     "name": "stdout",
     "output_type": "stream",
     "text": [
      "Netflix's initial stock price was $360.35\n",
      "Netflix's current stock price is $293.33\n",
      "Netflix's stock price changed by -18.60%\n",
      "Recommendation: buy\n"
     ]
    }
   ],
   "source": [
    "initial_price = 360.35\n",
    "current_price = 293.33\n",
    "threshold_to_sell = 20\n",
    "threshold_to_buy = -10\n",
    "increase = current_price - initial_price\n",
    "percent_increase = (increase/initial_price)*100\n",
    "\n",
    "print(f\"Netflix's initial stock price was ${initial_price}\")\n",
    "print(f\"Netflix's current stock price is ${current_price}\")\n",
    "print(f\"Netflix's stock price changed by {percent_increase:.2f}%\")\n",
    "\n",
    "if percent_increase >= threshold_to_sell:\n",
    "    recommendation = \"sell\"\n",
    "elif percent_increase <= threshold_to_buy:\n",
    "    recommendation = \"buy\"\n",
    "elif percent_increase > thresdhold_to_buy and percent_increase < threshold_to_sell:\n",
    "    recommendation = \"hold\"\n",
    "else:\n",
    "    print(\"Not enough data to make a decision. Need human input\")\n",
    "    \n",
    "print(f\"Recommendation: {recommendation}\")"
   ]
  },
  {
   "cell_type": "code",
   "execution_count": 10,
   "metadata": {},
   "outputs": [
    {
     "name": "stdout",
     "output_type": "stream",
     "text": [
      "Netflix's original stock price was $360.35\n",
      "Netflix's current stock price is $293.33\n",
      "Netflix's stock price changed by -18.60%\n",
      "Recommendation: buy\n",
      "\n"
     ]
    }
   ],
   "source": [
    "\"\"\"\n",
    "Conditionally Yours\n",
    "\n",
    "Pseudocode:\n",
    "1. Initialize variables original_price, current_price, increase, percent_increase, recommendation, threshold_to_buy, and threshold_to_sell\n",
    "2. Compute increase\n",
    "3. Compute percent_increase\n",
    "4. IF percent_increase is greater than or equal to threshold_to_sell\n",
    "        THEN Set recommendation to \"sell\"\n",
    "    ELSE IF percent_increase is less than or equal to threshold_to_buy\n",
    "        THEN set recommendation to \"buy\"\n",
    "    ELSE IF percent_increase is less than threshold_to_sell and greater than threshold_to_buy\n",
    "        THEN set recommendation to \"hold\"\n",
    "    ELSE\n",
    "        THEN print(\"Not enough data to make a decision. Need human input\")\n",
    "5. Print(\"Recommendation: \" + recommendation)\n",
    "\"\"\"\n",
    "\n",
    "# Increase = Current Price - Original Price\n",
    "# Percent Increase = Increase / Original x 100\n",
    "\n",
    "# Create integer variable for original_price\n",
    "original_price = 360.35\n",
    "\n",
    "# Create integer variable for current_price\n",
    "current_price = 293.33\n",
    "\n",
    "# Create float for threshold_to_buy\n",
    "threshold_to_buy = -10.00\n",
    "\n",
    "# Create float for threshold_to_sell\n",
    "threshold_to_sell = 20.00\n",
    "\n",
    "    # Create string for recommendation, default will be buy\n",
    "recommendation = \"buy\"\n",
    "\n",
    "# Calculate difference between current_price and original_price\n",
    "increase = current_price - original_price\n",
    "\n",
    "# Calculate percent increase\n",
    "percent_increase = (increase / original_price) * 100\n",
    "\n",
    "# Print original_price\n",
    "print(f\"Netflix's original stock price was ${original_price}\")\n",
    "\n",
    "# Print current_price\n",
    "print(f\"Netflix's current stock price is ${current_price}\")\n",
    "\n",
    "# Print percent increase\n",
    "print(\"Netflix's stock price changed by\", \"{:.2f}%\".format(percent_increase))\n",
    "\n",
    "# Determine if stock should be bought or sold\n",
    "if percent_increase >= threshold_to_sell:\n",
    "    recommendation = \"sell\"\n",
    "elif percent_increase <= threshold_to_buy:\n",
    "    recommendation = \"buy\"\n",
    "elif percent_increase < threshold_to_sell and percent_increase > threshold_to_buy:\n",
    "    recommendation = \"hold\"\n",
    "else:\n",
    "    print(\"Not enough data to make a decision. Need human input.\")\n",
    "\n",
    "print(\"Recommendation: \" + recommendation)\n",
    "print()\n"
   ]
  },
  {
   "cell_type": "code",
   "execution_count": null,
   "metadata": {},
   "outputs": [],
   "source": []
  }
 ],
 "metadata": {
  "kernelspec": {
   "display_name": "Python 3",
   "language": "python",
   "name": "python3"
  },
  "language_info": {
   "codemirror_mode": {
    "name": "ipython",
    "version": 3
   },
   "file_extension": ".py",
   "mimetype": "text/x-python",
   "name": "python",
   "nbconvert_exporter": "python",
   "pygments_lexer": "ipython3",
   "version": "3.8.3"
  }
 },
 "nbformat": 4,
 "nbformat_minor": 4
}
