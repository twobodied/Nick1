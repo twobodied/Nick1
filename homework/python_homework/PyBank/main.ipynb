{
 "cells": [
  {
   "cell_type": "code",
   "execution_count": 132,
   "metadata": {},
   "outputs": [
    {
     "name": "stdout",
     "output_type": "stream",
     "text": [
      "\n",
      "Financial Analysis\n",
      "------------------------------\n",
      "Total Months: 86\n",
      "Total: $38382578.00\n",
      "Average Change: $-2315.12\n",
      "Greatest Increase in Profits: Feb-2012, $1926159\n",
      "Greatest Decrease in Profits: Sep-2013, $-2196167\n",
      "\n"
     ]
    }
   ],
   "source": [
    "#PyBank Assignment Final script\n",
    "\n",
    "#step work below\n",
    "\n",
    "import csv\n",
    "homeworkFile = open('02-Homework_02-Python_PyBank_Resources_budget_data.csv')\n",
    "homeworkReader = csv.reader(homeworkFile)\n",
    "homeworkData = list(homeworkReader)\n",
    "\n",
    "row_count = len(homeworkData)\n",
    "month_count = row_count - 1\n",
    "\n",
    "import numpy as np\n",
    "my_list = homeworkData\n",
    "homeworkData_array = np.array(my_list)\n",
    "data_only = np.delete(homeworkData_array, 0, 0)\n",
    "\n",
    "money_only = np.delete(data_only, 0, 1)\n",
    "money_float = money_only.astype(np.float)\n",
    "profit = np.sum(money_float)\n",
    "\n",
    "differences = []\n",
    "for i,money in enumerate(money_float):\n",
    "    if i > 0:\n",
    "        previous_value = money_float[i-1][0]\n",
    "        difference = money[0] - previous_value\n",
    "        differences.append(difference)    \n",
    "sum_differences = sum(differences)\n",
    "avg_difference = sum_differences / 85\n",
    "\n",
    "max_value = max(differences)\n",
    "max_value_index = differences.index(max_value)\n",
    "greatest_increase = data_only[max_value_index+1,0]\n",
    "greatest_increase_print = f'{greatest_increase}, ${max_value:.0f}'\n",
    "\n",
    "min_value = min(differences)\n",
    "min_value_index = differences.index(min_value)\n",
    "greatest_decrease = data_only[min_value_index+1,0]\n",
    "greatest_decrease_print = f'{greatest_decrease}, ${min_value:.0f}'\n",
    "\n",
    "report = f\"\"\"\n",
    "Financial Analysis\n",
    "------------------------------\n",
    "Total Months: {month_count}\n",
    "Total: ${profit:.2f}\n",
    "Average Change: ${avg_difference:.2f}\n",
    "Greatest Increase in Profits: {greatest_increase_print}\n",
    "Greatest Decrease in Profits: {greatest_decrease_print}\n",
    "\"\"\"\n",
    "print(report)\n"
   ]
  },
  {
   "cell_type": "code",
   "execution_count": 2,
   "metadata": {},
   "outputs": [],
   "source": [
    "homeworkFile = open('02-Homework_02-Python_PyBank_Resources_budget_data.csv')"
   ]
  },
  {
   "cell_type": "code",
   "execution_count": 3,
   "metadata": {},
   "outputs": [],
   "source": [
    "homeworkReader = csv.reader(homeworkFile)"
   ]
  },
  {
   "cell_type": "code",
   "execution_count": 4,
   "metadata": {},
   "outputs": [],
   "source": [
    "homeworkData = list(homeworkReader)"
   ]
  },
  {
   "cell_type": "code",
   "execution_count": null,
   "metadata": {},
   "outputs": [],
   "source": []
  },
  {
   "cell_type": "code",
   "execution_count": 6,
   "metadata": {},
   "outputs": [
    {
     "data": {
      "text/plain": [
       "[['Date', 'Profit/Losses'],\n",
       " ['Jan-2010', '867884'],\n",
       " ['Feb-2010', '984655'],\n",
       " ['Mar-2010', '322013'],\n",
       " ['Apr-2010', '-69417'],\n",
       " ['May-2010', '310503'],\n",
       " ['Jun-2010', '522857'],\n",
       " ['Jul-2010', '1033096'],\n",
       " ['Aug-2010', '604885'],\n",
       " ['Sep-2010', '-216386'],\n",
       " ['Oct-2010', '477532'],\n",
       " ['Nov-2010', '893810'],\n",
       " ['Dec-2010', '-80353'],\n",
       " ['Jan-2011', '779806'],\n",
       " ['Feb-2011', '-335203'],\n",
       " ['Mar-2011', '697845'],\n",
       " ['Apr-2011', '793163'],\n",
       " ['May-2011', '485070'],\n",
       " ['Jun-2011', '584122'],\n",
       " ['Jul-2011', '62729'],\n",
       " ['Aug-2011', '668179'],\n",
       " ['Sep-2011', '899906'],\n",
       " ['Oct-2011', '834719'],\n",
       " ['Nov-2011', '132003'],\n",
       " ['Dec-2011', '309978'],\n",
       " ['Jan-2012', '-755566'],\n",
       " ['Feb-2012', '1170593'],\n",
       " ['Mar-2012', '252788'],\n",
       " ['Apr-2012', '1151518'],\n",
       " ['May-2012', '817256'],\n",
       " ['Jun-2012', '570757'],\n",
       " ['Jul-2012', '506702'],\n",
       " ['Aug-2012', '-1022534'],\n",
       " ['Sep-2012', '475062'],\n",
       " ['Oct-2012', '779976'],\n",
       " ['Nov-2012', '144175'],\n",
       " ['Dec-2012', '542494'],\n",
       " ['Jan-2013', '359333'],\n",
       " ['Feb-2013', '321469'],\n",
       " ['Mar-2013', '67780'],\n",
       " ['Apr-2013', '471435'],\n",
       " ['May-2013', '565603'],\n",
       " ['Jun-2013', '872480'],\n",
       " ['Jul-2013', '789480'],\n",
       " ['Aug-2013', '999942'],\n",
       " ['Sep-2013', '-1196225'],\n",
       " ['Oct-2013', '268997'],\n",
       " ['Nov-2013', '-687986'],\n",
       " ['Dec-2013', '1150461'],\n",
       " ['Jan-2014', '682458'],\n",
       " ['Feb-2014', '617856'],\n",
       " ['Mar-2014', '824098'],\n",
       " ['Apr-2014', '581943'],\n",
       " ['May-2014', '132864'],\n",
       " ['Jun-2014', '448062'],\n",
       " ['Jul-2014', '689161'],\n",
       " ['Aug-2014', '800701'],\n",
       " ['Sep-2014', '1166643'],\n",
       " ['Oct-2014', '947333'],\n",
       " ['Nov-2014', '578668'],\n",
       " ['Dec-2014', '988505'],\n",
       " ['Jan-2015', '1139715'],\n",
       " ['Feb-2015', '1029471'],\n",
       " ['Mar-2015', '687533'],\n",
       " ['Apr-2015', '-524626'],\n",
       " ['May-2015', '158620'],\n",
       " ['Jun-2015', '87795'],\n",
       " ['Jul-2015', '423389'],\n",
       " ['Aug-2015', '840723'],\n",
       " ['Sep-2015', '568529'],\n",
       " ['Oct-2015', '332067'],\n",
       " ['Nov-2015', '989499'],\n",
       " ['Dec-2015', '778237'],\n",
       " ['Jan-2016', '650000'],\n",
       " ['Feb-2016', '-1100387'],\n",
       " ['Mar-2016', '-174946'],\n",
       " ['Apr-2016', '757143'],\n",
       " ['May-2016', '445709'],\n",
       " ['Jun-2016', '712961'],\n",
       " ['Jul-2016', '-1163797'],\n",
       " ['Aug-2016', '569899'],\n",
       " ['Sep-2016', '768450'],\n",
       " ['Oct-2016', '102685'],\n",
       " ['Nov-2016', '795914'],\n",
       " ['Dec-2016', '60988'],\n",
       " ['Jan-2017', '138230'],\n",
       " ['Feb-2017', '671099']]"
      ]
     },
     "execution_count": 6,
     "metadata": {},
     "output_type": "execute_result"
    }
   ],
   "source": [
    "homeworkData"
   ]
  },
  {
   "cell_type": "code",
   "execution_count": 9,
   "metadata": {},
   "outputs": [
    {
     "name": "stdout",
     "output_type": "stream",
     "text": [
      "87\n"
     ]
    }
   ],
   "source": [
    "row_count = len(homeworkData)\n",
    "print(row_count)"
   ]
  },
  {
   "cell_type": "code",
   "execution_count": 11,
   "metadata": {},
   "outputs": [
    {
     "name": "stdout",
     "output_type": "stream",
     "text": [
      "86\n"
     ]
    }
   ],
   "source": [
    "month_count = row_count - 1\n",
    "print(month_count)"
   ]
  },
  {
   "cell_type": "code",
   "execution_count": 45,
   "metadata": {},
   "outputs": [
    {
     "name": "stdout",
     "output_type": "stream",
     "text": [
      "[['Date' 'Profit/Losses']\n",
      " ['Jan-2010' '867884']\n",
      " ['Feb-2010' '984655']\n",
      " ['Mar-2010' '322013']\n",
      " ['Apr-2010' '-69417']\n",
      " ['May-2010' '310503']\n",
      " ['Jun-2010' '522857']\n",
      " ['Jul-2010' '1033096']\n",
      " ['Aug-2010' '604885']\n",
      " ['Sep-2010' '-216386']\n",
      " ['Oct-2010' '477532']\n",
      " ['Nov-2010' '893810']\n",
      " ['Dec-2010' '-80353']\n",
      " ['Jan-2011' '779806']\n",
      " ['Feb-2011' '-335203']\n",
      " ['Mar-2011' '697845']\n",
      " ['Apr-2011' '793163']\n",
      " ['May-2011' '485070']\n",
      " ['Jun-2011' '584122']\n",
      " ['Jul-2011' '62729']\n",
      " ['Aug-2011' '668179']\n",
      " ['Sep-2011' '899906']\n",
      " ['Oct-2011' '834719']\n",
      " ['Nov-2011' '132003']\n",
      " ['Dec-2011' '309978']\n",
      " ['Jan-2012' '-755566']\n",
      " ['Feb-2012' '1170593']\n",
      " ['Mar-2012' '252788']\n",
      " ['Apr-2012' '1151518']\n",
      " ['May-2012' '817256']\n",
      " ['Jun-2012' '570757']\n",
      " ['Jul-2012' '506702']\n",
      " ['Aug-2012' '-1022534']\n",
      " ['Sep-2012' '475062']\n",
      " ['Oct-2012' '779976']\n",
      " ['Nov-2012' '144175']\n",
      " ['Dec-2012' '542494']\n",
      " ['Jan-2013' '359333']\n",
      " ['Feb-2013' '321469']\n",
      " ['Mar-2013' '67780']\n",
      " ['Apr-2013' '471435']\n",
      " ['May-2013' '565603']\n",
      " ['Jun-2013' '872480']\n",
      " ['Jul-2013' '789480']\n",
      " ['Aug-2013' '999942']\n",
      " ['Sep-2013' '-1196225']\n",
      " ['Oct-2013' '268997']\n",
      " ['Nov-2013' '-687986']\n",
      " ['Dec-2013' '1150461']\n",
      " ['Jan-2014' '682458']\n",
      " ['Feb-2014' '617856']\n",
      " ['Mar-2014' '824098']\n",
      " ['Apr-2014' '581943']\n",
      " ['May-2014' '132864']\n",
      " ['Jun-2014' '448062']\n",
      " ['Jul-2014' '689161']\n",
      " ['Aug-2014' '800701']\n",
      " ['Sep-2014' '1166643']\n",
      " ['Oct-2014' '947333']\n",
      " ['Nov-2014' '578668']\n",
      " ['Dec-2014' '988505']\n",
      " ['Jan-2015' '1139715']\n",
      " ['Feb-2015' '1029471']\n",
      " ['Mar-2015' '687533']\n",
      " ['Apr-2015' '-524626']\n",
      " ['May-2015' '158620']\n",
      " ['Jun-2015' '87795']\n",
      " ['Jul-2015' '423389']\n",
      " ['Aug-2015' '840723']\n",
      " ['Sep-2015' '568529']\n",
      " ['Oct-2015' '332067']\n",
      " ['Nov-2015' '989499']\n",
      " ['Dec-2015' '778237']\n",
      " ['Jan-2016' '650000']\n",
      " ['Feb-2016' '-1100387']\n",
      " ['Mar-2016' '-174946']\n",
      " ['Apr-2016' '757143']\n",
      " ['May-2016' '445709']\n",
      " ['Jun-2016' '712961']\n",
      " ['Jul-2016' '-1163797']\n",
      " ['Aug-2016' '569899']\n",
      " ['Sep-2016' '768450']\n",
      " ['Oct-2016' '102685']\n",
      " ['Nov-2016' '795914']\n",
      " ['Dec-2016' '60988']\n",
      " ['Jan-2017' '138230']\n",
      " ['Feb-2017' '671099']]\n"
     ]
    }
   ],
   "source": [
    "import numpy as np\n",
    "my_list = homeworkData\n",
    "homeworkData_array = np.array(my_list)\n",
    "# printing my_array\n",
    "print(homeworkData_array)"
   ]
  },
  {
   "cell_type": "code",
   "execution_count": 46,
   "metadata": {},
   "outputs": [
    {
     "data": {
      "text/plain": [
       "numpy.ndarray"
      ]
     },
     "execution_count": 46,
     "metadata": {},
     "output_type": "execute_result"
    }
   ],
   "source": [
    "type(homeworkData_array)"
   ]
  },
  {
   "cell_type": "code",
   "execution_count": 54,
   "metadata": {},
   "outputs": [
    {
     "name": "stdout",
     "output_type": "stream",
     "text": [
      "[['Jan-2010' '867884']\n",
      " ['Feb-2010' '984655']\n",
      " ['Mar-2010' '322013']\n",
      " ['Apr-2010' '-69417']\n",
      " ['May-2010' '310503']\n",
      " ['Jun-2010' '522857']\n",
      " ['Jul-2010' '1033096']\n",
      " ['Aug-2010' '604885']\n",
      " ['Sep-2010' '-216386']\n",
      " ['Oct-2010' '477532']\n",
      " ['Nov-2010' '893810']\n",
      " ['Dec-2010' '-80353']\n",
      " ['Jan-2011' '779806']\n",
      " ['Feb-2011' '-335203']\n",
      " ['Mar-2011' '697845']\n",
      " ['Apr-2011' '793163']\n",
      " ['May-2011' '485070']\n",
      " ['Jun-2011' '584122']\n",
      " ['Jul-2011' '62729']\n",
      " ['Aug-2011' '668179']\n",
      " ['Sep-2011' '899906']\n",
      " ['Oct-2011' '834719']\n",
      " ['Nov-2011' '132003']\n",
      " ['Dec-2011' '309978']\n",
      " ['Jan-2012' '-755566']\n",
      " ['Feb-2012' '1170593']\n",
      " ['Mar-2012' '252788']\n",
      " ['Apr-2012' '1151518']\n",
      " ['May-2012' '817256']\n",
      " ['Jun-2012' '570757']\n",
      " ['Jul-2012' '506702']\n",
      " ['Aug-2012' '-1022534']\n",
      " ['Sep-2012' '475062']\n",
      " ['Oct-2012' '779976']\n",
      " ['Nov-2012' '144175']\n",
      " ['Dec-2012' '542494']\n",
      " ['Jan-2013' '359333']\n",
      " ['Feb-2013' '321469']\n",
      " ['Mar-2013' '67780']\n",
      " ['Apr-2013' '471435']\n",
      " ['May-2013' '565603']\n",
      " ['Jun-2013' '872480']\n",
      " ['Jul-2013' '789480']\n",
      " ['Aug-2013' '999942']\n",
      " ['Sep-2013' '-1196225']\n",
      " ['Oct-2013' '268997']\n",
      " ['Nov-2013' '-687986']\n",
      " ['Dec-2013' '1150461']\n",
      " ['Jan-2014' '682458']\n",
      " ['Feb-2014' '617856']\n",
      " ['Mar-2014' '824098']\n",
      " ['Apr-2014' '581943']\n",
      " ['May-2014' '132864']\n",
      " ['Jun-2014' '448062']\n",
      " ['Jul-2014' '689161']\n",
      " ['Aug-2014' '800701']\n",
      " ['Sep-2014' '1166643']\n",
      " ['Oct-2014' '947333']\n",
      " ['Nov-2014' '578668']\n",
      " ['Dec-2014' '988505']\n",
      " ['Jan-2015' '1139715']\n",
      " ['Feb-2015' '1029471']\n",
      " ['Mar-2015' '687533']\n",
      " ['Apr-2015' '-524626']\n",
      " ['May-2015' '158620']\n",
      " ['Jun-2015' '87795']\n",
      " ['Jul-2015' '423389']\n",
      " ['Aug-2015' '840723']\n",
      " ['Sep-2015' '568529']\n",
      " ['Oct-2015' '332067']\n",
      " ['Nov-2015' '989499']\n",
      " ['Dec-2015' '778237']\n",
      " ['Jan-2016' '650000']\n",
      " ['Feb-2016' '-1100387']\n",
      " ['Mar-2016' '-174946']\n",
      " ['Apr-2016' '757143']\n",
      " ['May-2016' '445709']\n",
      " ['Jun-2016' '712961']\n",
      " ['Jul-2016' '-1163797']\n",
      " ['Aug-2016' '569899']\n",
      " ['Sep-2016' '768450']\n",
      " ['Oct-2016' '102685']\n",
      " ['Nov-2016' '795914']\n",
      " ['Dec-2016' '60988']\n",
      " ['Jan-2017' '138230']\n",
      " ['Feb-2017' '671099']]\n"
     ]
    }
   ],
   "source": [
    "data_only = np.delete(homeworkData_array, 0, 0)\n",
    "print(data_only)\n",
    "#the 0 dimension of the array is the rows, whereas the 1 dimension is the columns"
   ]
  },
  {
   "cell_type": "code",
   "execution_count": 57,
   "metadata": {},
   "outputs": [
    {
     "name": "stdout",
     "output_type": "stream",
     "text": [
      "[['867884']\n",
      " ['984655']\n",
      " ['322013']\n",
      " ['-69417']\n",
      " ['310503']\n",
      " ['522857']\n",
      " ['1033096']\n",
      " ['604885']\n",
      " ['-216386']\n",
      " ['477532']\n",
      " ['893810']\n",
      " ['-80353']\n",
      " ['779806']\n",
      " ['-335203']\n",
      " ['697845']\n",
      " ['793163']\n",
      " ['485070']\n",
      " ['584122']\n",
      " ['62729']\n",
      " ['668179']\n",
      " ['899906']\n",
      " ['834719']\n",
      " ['132003']\n",
      " ['309978']\n",
      " ['-755566']\n",
      " ['1170593']\n",
      " ['252788']\n",
      " ['1151518']\n",
      " ['817256']\n",
      " ['570757']\n",
      " ['506702']\n",
      " ['-1022534']\n",
      " ['475062']\n",
      " ['779976']\n",
      " ['144175']\n",
      " ['542494']\n",
      " ['359333']\n",
      " ['321469']\n",
      " ['67780']\n",
      " ['471435']\n",
      " ['565603']\n",
      " ['872480']\n",
      " ['789480']\n",
      " ['999942']\n",
      " ['-1196225']\n",
      " ['268997']\n",
      " ['-687986']\n",
      " ['1150461']\n",
      " ['682458']\n",
      " ['617856']\n",
      " ['824098']\n",
      " ['581943']\n",
      " ['132864']\n",
      " ['448062']\n",
      " ['689161']\n",
      " ['800701']\n",
      " ['1166643']\n",
      " ['947333']\n",
      " ['578668']\n",
      " ['988505']\n",
      " ['1139715']\n",
      " ['1029471']\n",
      " ['687533']\n",
      " ['-524626']\n",
      " ['158620']\n",
      " ['87795']\n",
      " ['423389']\n",
      " ['840723']\n",
      " ['568529']\n",
      " ['332067']\n",
      " ['989499']\n",
      " ['778237']\n",
      " ['650000']\n",
      " ['-1100387']\n",
      " ['-174946']\n",
      " ['757143']\n",
      " ['445709']\n",
      " ['712961']\n",
      " ['-1163797']\n",
      " ['569899']\n",
      " ['768450']\n",
      " ['102685']\n",
      " ['795914']\n",
      " ['60988']\n",
      " ['138230']\n",
      " ['671099']]\n"
     ]
    }
   ],
   "source": [
    "money_only = np.delete(data_only, 0, 1)\n",
    "print(money_only)"
   ]
  },
  {
   "cell_type": "code",
   "execution_count": 58,
   "metadata": {},
   "outputs": [
    {
     "name": "stdout",
     "output_type": "stream",
     "text": [
      "[[  867884.]\n",
      " [  984655.]\n",
      " [  322013.]\n",
      " [  -69417.]\n",
      " [  310503.]\n",
      " [  522857.]\n",
      " [ 1033096.]\n",
      " [  604885.]\n",
      " [ -216386.]\n",
      " [  477532.]\n",
      " [  893810.]\n",
      " [  -80353.]\n",
      " [  779806.]\n",
      " [ -335203.]\n",
      " [  697845.]\n",
      " [  793163.]\n",
      " [  485070.]\n",
      " [  584122.]\n",
      " [   62729.]\n",
      " [  668179.]\n",
      " [  899906.]\n",
      " [  834719.]\n",
      " [  132003.]\n",
      " [  309978.]\n",
      " [ -755566.]\n",
      " [ 1170593.]\n",
      " [  252788.]\n",
      " [ 1151518.]\n",
      " [  817256.]\n",
      " [  570757.]\n",
      " [  506702.]\n",
      " [-1022534.]\n",
      " [  475062.]\n",
      " [  779976.]\n",
      " [  144175.]\n",
      " [  542494.]\n",
      " [  359333.]\n",
      " [  321469.]\n",
      " [   67780.]\n",
      " [  471435.]\n",
      " [  565603.]\n",
      " [  872480.]\n",
      " [  789480.]\n",
      " [  999942.]\n",
      " [-1196225.]\n",
      " [  268997.]\n",
      " [ -687986.]\n",
      " [ 1150461.]\n",
      " [  682458.]\n",
      " [  617856.]\n",
      " [  824098.]\n",
      " [  581943.]\n",
      " [  132864.]\n",
      " [  448062.]\n",
      " [  689161.]\n",
      " [  800701.]\n",
      " [ 1166643.]\n",
      " [  947333.]\n",
      " [  578668.]\n",
      " [  988505.]\n",
      " [ 1139715.]\n",
      " [ 1029471.]\n",
      " [  687533.]\n",
      " [ -524626.]\n",
      " [  158620.]\n",
      " [   87795.]\n",
      " [  423389.]\n",
      " [  840723.]\n",
      " [  568529.]\n",
      " [  332067.]\n",
      " [  989499.]\n",
      " [  778237.]\n",
      " [  650000.]\n",
      " [-1100387.]\n",
      " [ -174946.]\n",
      " [  757143.]\n",
      " [  445709.]\n",
      " [  712961.]\n",
      " [-1163797.]\n",
      " [  569899.]\n",
      " [  768450.]\n",
      " [  102685.]\n",
      " [  795914.]\n",
      " [   60988.]\n",
      " [  138230.]\n",
      " [  671099.]]\n"
     ]
    }
   ],
   "source": [
    "money_float = money_only.astype(np.float)\n",
    "print(money_float)"
   ]
  },
  {
   "cell_type": "code",
   "execution_count": 61,
   "metadata": {},
   "outputs": [
    {
     "name": "stdout",
     "output_type": "stream",
     "text": [
      "38382578.0\n"
     ]
    }
   ],
   "source": [
    "profit = np.sum(money_float)\n",
    "print(profit)"
   ]
  },
  {
   "cell_type": "code",
   "execution_count": 85,
   "metadata": {},
   "outputs": [
    {
     "name": "stdout",
     "output_type": "stream",
     "text": [
      "-2315.1176470588234\n"
     ]
    }
   ],
   "source": [
    "differences = []\n",
    "\n",
    "for i,money in enumerate(money_float):\n",
    "    #i and money are separate variables, i is the position, money is the value\n",
    "    if i > 0:\n",
    "        previous_value = money_float[i-1][0]\n",
    "        difference = money[0] - previous_value\n",
    "        differences.append(difference)\n",
    "    \n",
    "sum_differences = sum(differences)\n",
    "avg_difference = sum_differences / 85\n",
    "\n",
    "print(avg_difference)"
   ]
  },
  {
   "cell_type": "code",
   "execution_count": null,
   "metadata": {},
   "outputs": [],
   "source": []
  },
  {
   "cell_type": "code",
   "execution_count": 129,
   "metadata": {},
   "outputs": [
    {
     "name": "stdout",
     "output_type": "stream",
     "text": [
      "Feb-2012, $1926159\n"
     ]
    }
   ],
   "source": [
    "max_value = max(differences)\n",
    "\n",
    "max_value_index = differences.index(max_value)\n",
    "\n",
    "greatest_increase = data_only[max_value_index+1,0]\n",
    "\n",
    "greatest_increase_print = f'{greatest_increase}, ${max_value:.0f}'\n",
    "print(greatest_increase_print)"
   ]
  },
  {
   "cell_type": "code",
   "execution_count": 128,
   "metadata": {},
   "outputs": [
    {
     "name": "stdout",
     "output_type": "stream",
     "text": [
      "Sep-2013, $-2196167\n"
     ]
    }
   ],
   "source": [
    "min_value = min(differences)\n",
    "\n",
    "min_value_index = differences.index(min_value)\n",
    "\n",
    "greatest_decrease = data_only[min_value_index+1,0]\n",
    "\n",
    "greatest_decrease_print = f'{greatest_decrease}, ${min_value:.0f}'\n",
    "print(greatest_decrease_print)"
   ]
  },
  {
   "cell_type": "code",
   "execution_count": 131,
   "metadata": {},
   "outputs": [
    {
     "name": "stdout",
     "output_type": "stream",
     "text": [
      "\n",
      "Financial Analysis\n",
      "------------------------------\n",
      "Total Months: 86\n",
      "Total: $38382578.00\n",
      "Average Change: $-2315.12\n",
      "Greatest Increase in Profits: Feb-2012, $1926159\n",
      "Greatest Decrease in Profits: Sep-2013, $-2196167\n",
      "\n"
     ]
    }
   ],
   "source": [
    "report = f\"\"\"\n",
    "Financial Analysis\n",
    "------------------------------\n",
    "Total Months: {month_count}\n",
    "Total: ${profit:.2f}\n",
    "Average Change: ${avg_difference:.2f}\n",
    "Greatest Increase in Profits: {greatest_increase_print}\n",
    "Greatest Decrease in Profits: {greatest_decrease_print}\n",
    "\"\"\"\n",
    "print(report)"
   ]
  },
  {
   "cell_type": "code",
   "execution_count": null,
   "metadata": {},
   "outputs": [],
   "source": []
  }
 ],
 "metadata": {
  "kernelspec": {
   "display_name": "Python 3",
   "language": "python",
   "name": "python3"
  },
  "language_info": {
   "codemirror_mode": {
    "name": "ipython",
    "version": 3
   },
   "file_extension": ".py",
   "mimetype": "text/x-python",
   "name": "python",
   "nbconvert_exporter": "python",
   "pygments_lexer": "ipython3",
   "version": "3.8.3"
  }
 },
 "nbformat": 4,
 "nbformat_minor": 4
}
